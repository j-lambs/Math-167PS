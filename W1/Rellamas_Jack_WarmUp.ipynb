{
 "cells": [
  {
   "cell_type": "markdown",
   "metadata": {},
   "source": [
    "Before you turn this homework in, make sure everything runs as expected. First, **restart the kernel** and then **run all cells** (in the menubar, select Kernel$\\rightarrow$Restart \\& Run all). If you get error messages, the grader will get the same errors and won't be able to grade your work. \n",
    "\n",
    "Make sure you fill in any place that says `YOUR CODE HERE` or \"YOUR ANSWER HERE\". You may delete the line(s) that say \"**raise** NotImplementedError()\" and replace them with your actual work. Write all your work in the cells provided in this notebook. **DO NOT** add or delete any cells. \n",
    "\n",
    "Please fill in your name in the cell below."
   ]
  },
  {
   "cell_type": "code",
   "execution_count": 2,
   "metadata": {},
   "outputs": [],
   "source": [
    "NAME = \"Jack Rellamas\""
   ]
  },
  {
   "cell_type": "markdown",
   "metadata": {},
   "source": [
    "---"
   ]
  },
  {
   "cell_type": "markdown",
   "metadata": {
    "deletable": false,
    "editable": false,
    "nbgrader": {
     "cell_type": "markdown",
     "checksum": "af48b9f58a816f10c2c6358e849f7b10",
     "grade": false,
     "grade_id": "jupyter",
     "locked": true,
     "schema_version": 3,
     "solution": false
    }
   },
   "source": [
    "# Warm-up Assignment"
   ]
  },
  {
   "cell_type": "markdown",
   "metadata": {
    "deletable": false,
    "editable": false,
    "nbgrader": {
     "cell_type": "markdown",
     "checksum": "671710af286e6d3fea040d2c402e512d",
     "grade": false,
     "grade_id": "cell-1f7d1b84731d1ffa",
     "locked": true,
     "schema_version": 3,
     "solution": false,
     "task": false
    }
   },
   "source": [
    "In this assignment we are practicing how to work with Jupyter notebooks (formerly known as ipython notebooks - ipynb for short). You can write text into these notebooks - you're looking at a block of text right now - or you can add executable code. If your code produces output, then the output can be seen in your document as well. Some cells (such as this one) are \"read-only\". Other cells (those that say \"YOUR ANSWER HERE\" or \"YOUR CODE HERE\") are for you to write in. \n",
    "\n",
    "In your future homework assignments, please make sure to put all your work in the cells that are already provided for you. Never add or delete cells as that may confuse the grading program we're using to grade parts of your work. "
   ]
  },
  {
   "cell_type": "markdown",
   "metadata": {
    "deletable": false,
    "editable": false,
    "nbgrader": {
     "cell_type": "markdown",
     "checksum": "36b3041b11dd6b003218a09e10cf0191",
     "grade": false,
     "grade_id": "cell-5cb07a001a9b34b9",
     "locked": true,
     "schema_version": 3,
     "solution": false,
     "task": false
    }
   },
   "source": [
    "### Problem 1\n",
    "\n",
    "Double click on the cell above that says `NAME = \"\"`. Put your actual name (as it appears on Canvas) between the quotation marks. (Like this: `NAME = \"Martina Bremer\"`). You'll be doing this on every assignment. The cell below this one is a Markdown cell. That's where you can put answers in English sentences. Please put the name you would like me to call you by in class in that cell below. "
   ]
  },
  {
   "cell_type": "markdown",
   "metadata": {
    "deletable": false,
    "nbgrader": {
     "cell_type": "markdown",
     "checksum": "450d6309c0ea9bd8bd75ae143489fa9a",
     "grade": true,
     "grade_id": "cell-6b2cf7e01a1d44f7",
     "locked": false,
     "points": 2,
     "schema_version": 3,
     "solution": true,
     "task": false
    }
   },
   "source": [
    "Rellamas"
   ]
  },
  {
   "cell_type": "markdown",
   "metadata": {
    "deletable": false,
    "editable": false,
    "nbgrader": {
     "cell_type": "markdown",
     "checksum": "b5df28b8aa8d71fbba1a0297c4884f86",
     "grade": false,
     "grade_id": "cell-8449d85872870b74",
     "locked": true,
     "schema_version": 3,
     "solution": false,
     "task": false
    }
   },
   "source": [
    "### Problem 2"
   ]
  },
  {
   "cell_type": "markdown",
   "metadata": {
    "deletable": false,
    "editable": false,
    "nbgrader": {
     "cell_type": "markdown",
     "checksum": "61c16b883463d0c0c963aeb5a0203911",
     "grade": false,
     "grade_id": "cell-d3e6e7a483bd8189",
     "locked": true,
     "schema_version": 3,
     "solution": false,
     "task": false
    }
   },
   "source": [
    "The cell below is a code cell. You will be writing Python code on future assignments in those cells. There may already be some code there (in this problem there isn't any) and you will add your own. You will always see a statement `raise NotImplementedError()` in the coding cells on your assignments. Start by commenting out that line (or deleting it outright) and replacing it with your code. \n",
    "\n",
    "For this warm-up assignment, please put the following code into the cell below:\n",
    "\n",
    "`print(\"Hello World\")`\n",
    "\n",
    "Then click on \"Run\". In general, the grader will only be able to see the results of code that you are able to see when you run your code. If code does not run for you (or produces an error), the grader will also only be able to see the error. "
   ]
  },
  {
   "cell_type": "code",
   "execution_count": 10,
   "metadata": {
    "deletable": false,
    "nbgrader": {
     "cell_type": "code",
     "checksum": "c77d2ee0b6480d9e5a535ce241109f2e",
     "grade": true,
     "grade_id": "hello_world",
     "locked": false,
     "points": 3,
     "schema_version": 3,
     "solution": true
    }
   },
   "outputs": [
    {
     "name": "stdout",
     "output_type": "stream",
     "text": [
      "Hello World\n"
     ]
    }
   ],
   "source": [
    "# YOUR CODE HERE\n",
    "print('Hello World')"
   ]
  },
  {
   "cell_type": "markdown",
   "metadata": {
    "deletable": false,
    "editable": false,
    "nbgrader": {
     "cell_type": "markdown",
     "checksum": "39b840f0c363ddfb8a24435a202a56a7",
     "grade": false,
     "grade_id": "cell-7185c9d096fb445f",
     "locked": true,
     "schema_version": 3,
     "solution": false,
     "task": false
    }
   },
   "source": [
    "### Problem 3\n",
    "\n"
   ]
  },
  {
   "cell_type": "markdown",
   "metadata": {},
   "source": [
    "Save this notebook. Please use the following naming strategy for all course-related submissions: \n",
    "\n",
    "\"YourLastName_YourFirstName_AssignmentName.ipynb\"\n",
    "\n",
    "To change the name of your notebook, click on the field on top that currently says \"WarmUp\". Next to the \"jupyter\" logo. Change it to your desired filename (e.g., Bremer_Martina_WarmUp.ipynb). Click the \"save\" symbol (left-most icon). You should now see a file with the new name in the folder where you had downloaded the original assignment from Canvas. Alternatively, you can also click on \"File\" and select \"Save as\". \n",
    "\n",
    "After you finish any assignment, make sure to click on \"Kernel\" and select \"Restart and run all\". Double check that there aren't any error messages before you submit. \n",
    "\n",
    "Lastly, submit your file on Canvas. Log on to Canvas, click on the assignment link for the warm-up assignment, which you can find on the homework tab. Attach your (renamed!!!) file and click on the blue \"Submit Assignment\" button. "
   ]
  }
 ],
 "metadata": {
  "kernelspec": {
   "display_name": "Python 3 (ipykernel)",
   "language": "python",
   "name": "python3"
  },
  "language_info": {
   "codemirror_mode": {
    "name": "ipython",
    "version": 3
   },
   "file_extension": ".py",
   "mimetype": "text/x-python",
   "name": "python",
   "nbconvert_exporter": "python",
   "pygments_lexer": "ipython3",
   "version": "3.11.7"
  }
 },
 "nbformat": 4,
 "nbformat_minor": 4
}
